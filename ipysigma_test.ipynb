{
 "cells": [
  {
   "cell_type": "markdown",
   "id": "78cc8af5-6cb7-4f47-b723-ae331ee8adaf",
   "metadata": {},
   "source": [
    "## Collaboration network"
   ]
  },
  {
   "cell_type": "code",
   "execution_count": 1,
   "id": "1d648dc7-ad16-4a31-a643-6eee1cf91024",
   "metadata": {},
   "outputs": [],
   "source": [
    "import requests"
   ]
  },
  {
   "cell_type": "code",
   "execution_count": 2,
   "id": "88a5e884-e607-48b1-8ffc-0e6c6760697f",
   "metadata": {},
   "outputs": [],
   "source": [
    "# obtain author id to start with\n",
    "base_url_authors = 'https://api.openalex.org/authors'\n",
    "\n",
    "name = 'joeri both'\n",
    "\n",
    "params = {'search': name}\n",
    "r = requests.get(base_url_authors, params)\n",
    "data = r.json()\n",
    "author_id = data['results'][0]['id']"
   ]
  },
  {
   "cell_type": "code",
   "execution_count": 5,
   "id": "897cc283-5d5a-4ec0-84dc-e2d78f391ccd",
   "metadata": {},
   "outputs": [],
   "source": [
    "def colab_net(author_id, level=2, nodes=[], nodes_n=[], edges=[]):\n",
    "\n",
    "    # level: depth of the network, aka \"collaborators of collaborators\"\n",
    "    \n",
    "    base_url_works = 'https://api.openalex.org/works'\n",
    "    \n",
    "    params = {'filter': f'author.id:{author_id}'}\n",
    "    r = requests.get(base_url_works, params)\n",
    "    data = r.json()\n",
    "\n",
    "    author_ids = set()\n",
    "    for work in data['results']:\n",
    "        authors = []\n",
    "        institutes = []\n",
    "        for authorship in work['authorships']:\n",
    "            author_ids.add(authorship['author'].get('id'))\n",
    "            name = authorship['author'].get('display_name')\n",
    "            if name:\n",
    "                authors.append(name)\n",
    "                for institute in authorship['institutions']:\n",
    "                    iname = institute.get('display_name')\n",
    "                    if iname:\n",
    "                        institutes.append(iname)\n",
    "                        edges.append({'n1': name, 'n2': iname, 'type': 'works_at'})\n",
    "\n",
    "        for n in authors: \n",
    "            if n not in nodes_n:\n",
    "                nodes.append({'n': n, 'entity': 'author'})  # nodes have to be unique\n",
    "                nodes_n.append(n)\n",
    "        [edges.append({'n1': n1, 'n2': n2, 'type': 'works_with'}) for n1 in authors for n2 in authors if n1 != n2]\n",
    "        \n",
    "        for n in institutes: \n",
    "            if n not in nodes_n:\n",
    "                nodes.append({'n': n, 'entity': 'institute'})\n",
    "                nodes_n.append(n)\n",
    "\n",
    "    if level > 1:\n",
    "        for aid in author_ids:\n",
    "            colab_net(aid, level-1, nodes=nodes, nodes_n=nodes_n, edges=edges)\n",
    "\n",
    "    return nodes, edges"
   ]
  },
  {
   "cell_type": "code",
   "execution_count": 6,
   "id": "41abe689-82e7-4bd1-bd4c-282b7e8def98",
   "metadata": {},
   "outputs": [],
   "source": [
    "nodes, edges = colab_net(author_id)"
   ]
  },
  {
   "cell_type": "code",
   "execution_count": 7,
   "id": "ec65ea9f-eb4e-47ae-9121-7fb9722445fd",
   "metadata": {},
   "outputs": [
    {
     "name": "stdout",
     "output_type": "stream",
     "text": [
      "1730\n",
      "64762\n"
     ]
    }
   ],
   "source": [
    "print(len(nodes))\n",
    "print(len(edges))"
   ]
  },
  {
   "cell_type": "code",
   "execution_count": 8,
   "id": "30977afe-d68e-47df-bd8d-b9f219230a6c",
   "metadata": {},
   "outputs": [],
   "source": [
    "from ipysigma import Sigma"
   ]
  },
  {
   "cell_type": "code",
   "execution_count": 9,
   "id": "152d1eee-4c28-42a7-ab67-c5accd01f753",
   "metadata": {},
   "outputs": [],
   "source": [
    "import pandas as pd\n",
    "from pelote import edges_table_to_graph, tables_to_graph"
   ]
  },
  {
   "cell_type": "code",
   "execution_count": 10,
   "id": "d26f39a5-0dc5-4ab9-90c9-fe90b14d8afd",
   "metadata": {},
   "outputs": [
    {
     "data": {
      "application/vnd.jupyter.widget-view+json": {
       "model_id": "8b7320e938e8460ab27aac529c902b4c",
       "version_major": 2,
       "version_minor": 0
      },
      "text/plain": [
       "Sigma(nx.Graph with 1,730 nodes and 27,029 edges)"
      ]
     },
     "execution_count": 10,
     "metadata": {},
     "output_type": "execute_result"
    }
   ],
   "source": [
    "#df = pd.DataFrame(edges)\n",
    "#g = edges_table_to_graph(\n",
    "#    df,\n",
    "#    edge_source_col=\"n1\",\n",
    "#    edge_target_col=\"n2\",\n",
    "#    edge_data=['type']\n",
    "#)\n",
    "\n",
    "g = tables_to_graph(\n",
    "    nodes, \n",
    "    edges, \n",
    "    node_col=\"n\", node_data=[\"entity\"], \n",
    "    edge_data=[\"type\"], \n",
    "    edge_source_col=\"n1\",\n",
    "    edge_target_col=\"n2\",\n",
    "    directed=False\n",
    ")\n",
    "\n",
    "Sigma(g, node_color='entity', node_size=g.degree)"
   ]
  },
  {
   "cell_type": "code",
   "execution_count": null,
   "id": "f75310da-b746-4bea-a635-d44d74de02f4",
   "metadata": {},
   "outputs": [],
   "source": []
  }
 ],
 "metadata": {
  "kernelspec": {
   "display_name": "Python 3 (ipykernel)",
   "language": "python",
   "name": "python3"
  },
  "language_info": {
   "codemirror_mode": {
    "name": "ipython",
    "version": 3
   },
   "file_extension": ".py",
   "mimetype": "text/x-python",
   "name": "python",
   "nbconvert_exporter": "python",
   "pygments_lexer": "ipython3",
   "version": "3.10.10"
  }
 },
 "nbformat": 4,
 "nbformat_minor": 5
}
