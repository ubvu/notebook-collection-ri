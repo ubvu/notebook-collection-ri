{
 "cells": [
  {
   "cell_type": "code",
   "execution_count": 1,
   "id": "936c5688-814c-4c01-a454-1c9cbe4027a7",
   "metadata": {
    "tags": []
   },
   "outputs": [],
   "source": [
    "import requests\n",
    "import json"
   ]
  },
  {
   "cell_type": "markdown",
   "id": "856ed049-b6e2-40bd-8f73-a53b048a1882",
   "metadata": {},
   "source": [
    "## OpenAlex query: clinical trial concept\n",
    "\n",
    "In case you want to re-run it, change cell to code"
   ]
  },
  {
   "cell_type": "raw",
   "id": "34b28148-f138-4701-a7cf-ec889b12c7ac",
   "metadata": {
    "tags": []
   },
   "source": [
    "base_url_works = 'https://api.openalex.org/works'\n",
    "params = {'filter': 'concepts.id:C535046627,publication_year:2022',\n",
    "          'cursor': '*',\n",
    "          'per-page': 100}\n",
    "results = []\n",
    "done = False\n",
    "while not done:\n",
    "    r = requests.get(base_url_works, params)\n",
    "    data = r.json()\n",
    "    results.extend(data['results'])\n",
    "    if data['meta']['next_cursor']:\n",
    "        params['cursor'] = data['meta']['next_cursor']\n",
    "    else:\n",
    "        done = True\n",
    "\n",
    "print(len(results))\n",
    "\n",
    "with open('data/clinical_trial_tool/works.json', 'w') as f:\n",
    "    f.write(json.dumps(results))"
   ]
  },
  {
   "cell_type": "markdown",
   "id": "13931ac5-842f-49c9-a40a-6af6e3b4c906",
   "metadata": {},
   "source": [
    "### Extract pmids and compare with clinical trial query (PubMed)"
   ]
  },
  {
   "cell_type": "code",
   "execution_count": 2,
   "id": "192f588a-34e0-45c6-b048-b7d21e738458",
   "metadata": {
    "tags": []
   },
   "outputs": [],
   "source": [
    "import pandas as pd"
   ]
  },
  {
   "cell_type": "code",
   "execution_count": 3,
   "id": "ad932b0a-32e9-4776-8503-00e03d58b3fe",
   "metadata": {
    "tags": []
   },
   "outputs": [],
   "source": [
    "pmids_pm = set(pd.read_csv('data/clinical_trial_tool/pmids.txt', header=None)[0].values)"
   ]
  },
  {
   "cell_type": "code",
   "execution_count": 4,
   "id": "40937c84-32c1-461f-b79e-860b5895f840",
   "metadata": {
    "tags": []
   },
   "outputs": [],
   "source": [
    "with open('data/clinical_trial_tool/works.json', 'r') as f:\n",
    "    works = json.loads(f.read())"
   ]
  },
  {
   "cell_type": "code",
   "execution_count": 5,
   "id": "d37e4bdc-6956-4fdb-8eb0-41440703a9a4",
   "metadata": {
    "tags": []
   },
   "outputs": [],
   "source": [
    "pmids_oa = set()\n",
    "for work in works:\n",
    "    pmid = work['ids'].get('pmid')\n",
    "    if pmid:\n",
    "        pmids_oa.add(int(pmid.replace('https://pubmed.ncbi.nlm.nih.gov/', '')))"
   ]
  },
  {
   "cell_type": "code",
   "execution_count": 10,
   "id": "3571106d-c680-409b-bc80-8645aa59a3b7",
   "metadata": {
    "tags": []
   },
   "outputs": [],
   "source": [
    "overlapping = pmids_oa.intersection(pmids_pm)"
   ]
  },
  {
   "cell_type": "code",
   "execution_count": 11,
   "id": "268adb22-e62b-4f8f-b095-fac8f0b1674c",
   "metadata": {
    "tags": []
   },
   "outputs": [
    {
     "name": "stdout",
     "output_type": "stream",
     "text": [
      "pmids in oa: 21358\n",
      "pmids in pm: 42150\n",
      "overlap: 5425\n"
     ]
    }
   ],
   "source": [
    "print(f'pmids in oa: {len(pmids_oa)}')\n",
    "print(f'pmids in pm: {len(pmids_pm)}')\n",
    "print(f'overlap: {len(overlapping)}')"
   ]
  },
  {
   "cell_type": "markdown",
   "id": "517f9ab0-c7c6-4e5b-b206-ecadf5598bc9",
   "metadata": {},
   "source": [
    "### Are the remaining works not clinical trials?"
   ]
  },
  {
   "cell_type": "code",
   "execution_count": 7,
   "id": "63f6d808-030a-40a9-af19-e02cf7fec2e2",
   "metadata": {
    "tags": []
   },
   "outputs": [],
   "source": [
    "rest = []\n",
    "\n",
    "for work in works:\n",
    "    pmid = work['ids'].get('pmid')\n",
    "    if pmid:\n",
    "        pmid = int(pmid.replace('https://pubmed.ncbi.nlm.nih.gov/', ''))\n",
    "        if pmid not in overlapping:\n",
    "            rest.append(work['title'])"
   ]
  },
  {
   "cell_type": "markdown",
   "id": "18145dc2-4fee-49f8-8312-7327407492ca",
   "metadata": {},
   "source": [
    "## OpenAlex metadata for clinical trials\n",
    "\n",
    "- what are the features that describe clinical trials?"
   ]
  },
  {
   "cell_type": "code",
   "execution_count": 32,
   "id": "16524929-03b6-4310-ba88-9980172e44c9",
   "metadata": {
    "tags": []
   },
   "outputs": [],
   "source": [
    "mesh_count = 0\n",
    "sources = []\n",
    "dois = []\n",
    "for work in works:\n",
    "    pmid = work['ids'].get('pmid')\n",
    "    if pmid:\n",
    "        pmid = int(pmid.replace('https://pubmed.ncbi.nlm.nih.gov/', ''))\n",
    "        if pmid in overlapping:\n",
    "            # mesh terms\n",
    "            for mesh in work.get('mesh', []):\n",
    "                if mesh['descriptor_name'].lower().find('clinical trial') > -1:\n",
    "                    mesh_count += 1\n",
    "            # journals\n",
    "            pl = work.get('primary_location')\n",
    "            if pl:\n",
    "                journal = pl.get('source')\n",
    "                if journal:\n",
    "                    sources.append(journal['display_name'])\n",
    "            # dois\n",
    "            doi = work.get('doi')\n",
    "            if doi:\n",
    "                dois.append(doi)"
   ]
  },
  {
   "cell_type": "markdown",
   "id": "31f66f56-d548-42b0-8fa6-7d3c5130ee20",
   "metadata": {},
   "source": [
    "## PubMed query translation"
   ]
  },
  {
   "cell_type": "code",
   "execution_count": 62,
   "id": "894dbf9e-e371-4386-a84a-52e94f26cdff",
   "metadata": {
    "tags": []
   },
   "outputs": [],
   "source": [
    "import re"
   ]
  },
  {
   "cell_type": "code",
   "execution_count": 63,
   "id": "1d0c5b2c-64df-428d-bb0a-d9fc9517cad1",
   "metadata": {
    "tags": []
   },
   "outputs": [],
   "source": [
    "ti = 'random paper'\n",
    "ab = 'this paper is about random stuff'\n",
    "query = '((random*[ti] OR nonrandom*[ti] OR control*[ti]) AND (trial[ti] OR \"Feasibility study\"[ti])) OR (clinical[tiab] AND safe*[tiab])'"
   ]
  },
  {
   "cell_type": "code",
   "execution_count": 61,
   "id": "ad93b9c9-2c39-4a21-abf3-8fceb08c2857",
   "metadata": {
    "tags": []
   },
   "outputs": [
    {
     "data": {
      "text/plain": [
       "True"
      ]
     },
     "execution_count": 61,
     "metadata": {},
     "output_type": "execute_result"
    }
   ],
   "source": [
    "def isin(term, doc):\n",
    "    bool(re.search(\"pap.\", doc)) is True\n",
    "    \n",
    "nopen = 0\n",
    "stack = [[], []]  # 0: and, 1: or \n",
    "stack_pointer = None\n",
    "token = ['', '']  # 0: term, 1: operator\n",
    "quoted = False\n",
    "\n",
    "for c in query:\n",
    "    if c=='(':\n",
    "        nopen += 1\n",
    "    elif c==')':\n",
    "        # evaluate stack\n",
    "        open -= 1\n",
    "    elif c==' ' & not quoted:\n",
    "        # add token to stack\n",
    "        if token != '':  # e.g. multiple spaces\n",
    "            if token == 'AND':\n",
    "\n",
    "            elif token == 'OR'\n",
    "    elif c=='\"':\n",
    "        # quoted phrase flip\n",
    "        quoted = not(quoted)\n",
    "    else:\n",
    "        # add to token\n",
    "        token += c\n",
    "        \n",
    "# evaluate rest\n"
   ]
  },
  {
   "cell_type": "code",
   "execution_count": null,
   "id": "805fb03d-8ea1-45fc-ab08-9fc39031b466",
   "metadata": {},
   "outputs": [],
   "source": []
  }
 ],
 "metadata": {
  "kernelspec": {
   "display_name": "Python 3 (ipykernel)",
   "language": "python",
   "name": "python3"
  },
  "language_info": {
   "codemirror_mode": {
    "name": "ipython",
    "version": 3
   },
   "file_extension": ".py",
   "mimetype": "text/x-python",
   "name": "python",
   "nbconvert_exporter": "python",
   "pygments_lexer": "ipython3",
   "version": "3.11.3"
  }
 },
 "nbformat": 4,
 "nbformat_minor": 5
}
