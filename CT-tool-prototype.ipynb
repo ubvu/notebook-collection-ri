{
 "cells": [
  {
   "cell_type": "markdown",
   "id": "4f0b7a91-5920-4970-a4fd-b2b13176936a",
   "metadata": {},
   "source": [
    "## Workflow\n",
    "\n",
    "- article provided as doi (for now, alternatives possible)\n",
    "- look up citing documents (OpenAlex)\n",
    "- extract pmids\n",
    "- pubmed search using pmids and clinicaltrial query\n",
    "- estimate impact"
   ]
  },
  {
   "cell_type": "code",
   "execution_count": 8,
   "id": "f008a102-762c-4483-815d-96d810ec2409",
   "metadata": {
    "tags": []
   },
   "outputs": [],
   "source": [
    "import requests"
   ]
  },
  {
   "cell_type": "code",
   "execution_count": 2,
   "id": "cd785a1a-69c1-4072-b684-f17a6cded9ad",
   "metadata": {
    "tags": []
   },
   "outputs": [],
   "source": [
    "def get_citing_pmids(doi):\n",
    "    \n",
    "    base_url_works = 'https://api.openalex.org/works'\n",
    "    \n",
    "    # get work id\n",
    "    params = {'filter': f'doi:{doi}'}\n",
    "    r = requests.get(base_url_works, params)\n",
    "    data = r.json()\n",
    "    work_id = data['results'][0]['id']  # if multiple, take first\n",
    "    work_id = work_id.replace('https://openalex.org/', '')\n",
    "    \n",
    "    # obtain citing documents/pmids\n",
    "    params = {'filter': f'cites:{work_id}',\n",
    "              'cursor': '*', 'per-page': 100}\n",
    "    pmids = set()\n",
    "    done = False\n",
    "    while not done:\n",
    "        r = requests.get(base_url_works, params)\n",
    "        data = r.json()\n",
    "        for work in data['results']:\n",
    "            pmid = work['ids'].get('pmid')\n",
    "            if pmid:\n",
    "                pmids.add(pmid.replace('https://pubmed.ncbi.nlm.nih.gov/', ''))\n",
    "        if data['meta']['next_cursor']:\n",
    "            params['cursor'] = data['meta']['next_cursor']\n",
    "        else:\n",
    "            done = True\n",
    "    \n",
    "    return list(pmids)"
   ]
  },
  {
   "cell_type": "code",
   "execution_count": 26,
   "id": "d0934ca6-9b1d-4a82-a129-72c216f931ea",
   "metadata": {
    "tags": []
   },
   "outputs": [],
   "source": [
    "def get_clinical_trials(pmids):\n",
    "    \n",
    "    search_url = 'https://eutils.ncbi.nlm.nih.gov/entrez/eutils/esearch.fcgi'\n",
    "    \n",
    "    query = ' OR '.join([f'{pmid}[pmid]' for pmid in pmids]) + ' AND (clinicaltrial[Filter])'\n",
    "                                                                     \n",
    "    data = {'term': query.encode('utf-8'), 'db': 'pubmed', 'retmax': 10000, 'retmode': 'json'}\n",
    "    # https://stackoverflow.com/questions/55887958/what-is-the-default-encoding-when-python-requests-post-data-is-string-type\n",
    "    headers={'Content-Type': 'application/x-www-form-urlencoded; charset=utf-8',\n",
    "             'Accept': 'application/json'}\n",
    "    r = requests.post(search_url, data=data, headers=headers)\n",
    "    data = r.json()['esearchresult']\n",
    "    \n",
    "    return data['idlist']"
   ]
  },
  {
   "cell_type": "markdown",
   "id": "d537eaf2-96e9-4de8-a052-6bcdb4a4ce25",
   "metadata": {},
   "source": [
    "## Test"
   ]
  },
  {
   "cell_type": "code",
   "execution_count": 9,
   "id": "b4df1c8d-66e9-458c-9f11-efd09d40c5da",
   "metadata": {
    "tags": []
   },
   "outputs": [],
   "source": [
    "doi = '10.1136/annrheumdis-2019-216655'  # this article cites at least 1 clinical trial\n",
    "\n",
    "pmid_exp = '35081280'  # we expect this trial to be amongst them"
   ]
  },
  {
   "cell_type": "code",
   "execution_count": 10,
   "id": "7b8f4afb-0581-4867-b36b-087c6afa0615",
   "metadata": {
    "tags": []
   },
   "outputs": [],
   "source": [
    "pmids = get_citing_pmids(doi)"
   ]
  },
  {
   "cell_type": "code",
   "execution_count": 21,
   "id": "74066a5e-245a-4759-b61e-4eecb23306c8",
   "metadata": {
    "tags": []
   },
   "outputs": [
    {
     "data": {
      "text/plain": [
       "1308"
      ]
     },
     "execution_count": 21,
     "metadata": {},
     "output_type": "execute_result"
    }
   ],
   "source": [
    "len(pmids)"
   ]
  },
  {
   "cell_type": "code",
   "execution_count": 27,
   "id": "183c664e-6795-4fbc-91ae-9de23de30d1f",
   "metadata": {
    "tags": []
   },
   "outputs": [],
   "source": [
    "pmids_ct = get_clinical_trials(pmids)"
   ]
  },
  {
   "cell_type": "code",
   "execution_count": 28,
   "id": "1046bb66-ea21-4215-af3f-b7d4878ae89c",
   "metadata": {
    "tags": []
   },
   "outputs": [
    {
     "data": {
      "text/plain": [
       "89"
      ]
     },
     "execution_count": 28,
     "metadata": {},
     "output_type": "execute_result"
    }
   ],
   "source": [
    "len(pmids_ct)"
   ]
  },
  {
   "cell_type": "code",
   "execution_count": 30,
   "id": "95cedce3-db3a-41c7-a4f3-381d550eebc0",
   "metadata": {
    "tags": []
   },
   "outputs": [
    {
     "data": {
      "text/plain": [
       "True"
      ]
     },
     "execution_count": 30,
     "metadata": {},
     "output_type": "execute_result"
    }
   ],
   "source": [
    "pmid_exp in pmids_ct"
   ]
  },
  {
   "cell_type": "code",
   "execution_count": null,
   "id": "06823d72-8123-4eb3-8db4-7e4fc6e466b8",
   "metadata": {},
   "outputs": [],
   "source": []
  }
 ],
 "metadata": {
  "kernelspec": {
   "display_name": "Python 3 (ipykernel)",
   "language": "python",
   "name": "python3"
  },
  "language_info": {
   "codemirror_mode": {
    "name": "ipython",
    "version": 3
   },
   "file_extension": ".py",
   "mimetype": "text/x-python",
   "name": "python",
   "nbconvert_exporter": "python",
   "pygments_lexer": "ipython3",
   "version": "3.11.3"
  }
 },
 "nbformat": 4,
 "nbformat_minor": 5
}
