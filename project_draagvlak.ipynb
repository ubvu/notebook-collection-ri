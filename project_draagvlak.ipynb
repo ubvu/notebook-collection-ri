{
 "cells": [
  {
   "cell_type": "markdown",
   "id": "6ee555e6-8228-4007-b934-bcc41876040e",
   "metadata": {},
   "source": [
    "## Query"
   ]
  },
  {
   "cell_type": "code",
   "execution_count": 4,
   "id": "f15b56df-491b-4c77-9e6a-27d7e9f92173",
   "metadata": {
    "tags": []
   },
   "outputs": [],
   "source": [
    "query = '((AF-ID(60008734)) OR (AF-ID(60001997))) AND (TITLE(review* OR meta-anal* OR literature OR guideline* OR evidence-synth*)) AND  PUBYEAR > 2017 AND PUBYEAR < 2023'"
   ]
  },
  {
   "cell_type": "markdown",
   "id": "608c3208-b5e2-4da4-8ef0-c5a7b69fe1f5",
   "metadata": {},
   "source": [
    "## Scopus search"
   ]
  },
  {
   "cell_type": "code",
   "execution_count": 8,
   "id": "38629886-3723-4cbb-8475-409027443f1e",
   "metadata": {
    "tags": []
   },
   "outputs": [],
   "source": [
    "from pybliometrics.scopus import ScopusSearch\n",
    "import pandas as pd"
   ]
  },
  {
   "cell_type": "code",
   "execution_count": 6,
   "id": "8b99cae2-f60a-450c-b9e2-d11865da83ee",
   "metadata": {
    "tags": []
   },
   "outputs": [
    {
     "name": "stdout",
     "output_type": "stream",
     "text": [
      "Downloading results for query \"((AF-ID(60008734)) OR (AF-ID(60001997))) AND (TITLE(review* OR meta-anal* OR literature OR guideline* OR evidence-synth*)) AND  PUBYEAR > 2017 AND PUBYEAR < 2023\":\n"
     ]
    },
    {
     "name": "stderr",
     "output_type": "stream",
     "text": [
      "100%|██████████████████████████████████████████| 97/97 [01:41<00:00,  1.05s/it]\n"
     ]
    }
   ],
   "source": [
    "s = ScopusSearch(query, refresh=30, download=True, verbose=True, subscriber=True, view=\"COMPLETE\")\n",
    "# COMPLETE view for author information\n",
    "# refresh=n will download contents if previous download exceeds n days"
   ]
  },
  {
   "cell_type": "code",
   "execution_count": 9,
   "id": "41b18152-01bf-4990-a76c-986d7a4c3cc5",
   "metadata": {
    "tags": []
   },
   "outputs": [],
   "source": [
    "data = pd.DataFrame(s.results)"
   ]
  },
  {
   "cell_type": "code",
   "execution_count": 10,
   "id": "68fa77cc-1b70-427c-92a9-e6055c9c16c6",
   "metadata": {
    "tags": []
   },
   "outputs": [],
   "source": [
    "data.to_csv(f'data/project_draagvlak/scopus.csv')"
   ]
  },
  {
   "cell_type": "markdown",
   "id": "777deb00-f632-43a4-a958-7e48db28d722",
   "metadata": {},
   "source": [
    "## Filter\n",
    "\n",
    "- first or last author with VU or VUmc affiliation"
   ]
  },
  {
   "cell_type": "code",
   "execution_count": 11,
   "id": "675fab47-75ad-4882-af2b-4a1ce1319407",
   "metadata": {
    "tags": []
   },
   "outputs": [],
   "source": [
    "affiliations = ['60008734', '60001997']"
   ]
  },
  {
   "cell_type": "code",
   "execution_count": 19,
   "id": "b715ed5e-140d-455c-b731-c14491a9d4b4",
   "metadata": {
    "tags": []
   },
   "outputs": [],
   "source": [
    "def get_pos(x: list):\n",
    "    p = [0]*len(x); p[0] = p[-1] = 1\n",
    "    return p"
   ]
  },
  {
   "cell_type": "code",
   "execution_count": 40,
   "id": "6cb5aedf-6898-4eda-959b-dd3d2357260a",
   "metadata": {
    "tags": []
   },
   "outputs": [],
   "source": [
    "data_filt = data.copy()\n",
    "\n",
    "data_filt = data_filt[~pd.isna(data_filt['author_afids'])]  # no authors -> no first or last\n",
    "data_filt['author_afids2'] = data_filt['author_afids'].apply(lambda x: x.split(';'))  # create a list of authors\n",
    "\n",
    "# create a list of same length and assign 1 to first and last position\n",
    "data_filt['position'] = data_filt['author_afids2'].apply(get_pos)\n",
    "data_filt = data_filt.explode(['author_afids2', 'position'])  # authors to rows\n",
    "\n",
    "# authors can have multiple afids so create a second list\n",
    "data_filt = data_filt[data_filt['author_afids2'] != '']  # no afid\n",
    "data_filt['author_afids2'] = data_filt['author_afids2'].apply(lambda x: x.split('-'))\n",
    "data_filt = data_filt.explode('author_afids2')  # authors-afids to rows\n",
    "\n",
    "# only keep authors from our affiliations\n",
    "data_filt = data_filt[data_filt.author_afids2.isin(affiliations)]\n",
    "\n",
    "# keep publications with first or last author: sum() > 0\n",
    "data_filt['position_sum'] = data_filt.groupby('eid').position.transform('sum')\n",
    "data_filt = data_filt[data_filt.position_sum > 0]\n",
    "\n",
    "# de-duplicate (author -> publication level)\n",
    "data_filt = data_filt.drop_duplicates('eid')\n",
    "\n",
    "# drop used columns and save\n",
    "data_filt = data_filt.drop(columns=['author_afids2', 'position', 'position_sum'])\n",
    "data_filt.to_csv('data/project_draagvlak/data_filt.csv', index=False)"
   ]
  },
  {
   "cell_type": "code",
   "execution_count": null,
   "id": "f6ef8a9d-0564-4a43-8a3b-593c4dbf66ff",
   "metadata": {},
   "outputs": [],
   "source": []
  }
 ],
 "metadata": {
  "kernelspec": {
   "display_name": "Python 3 (ipykernel)",
   "language": "python",
   "name": "python3"
  },
  "language_info": {
   "codemirror_mode": {
    "name": "ipython",
    "version": 3
   },
   "file_extension": ".py",
   "mimetype": "text/x-python",
   "name": "python",
   "nbconvert_exporter": "python",
   "pygments_lexer": "ipython3",
   "version": "3.11.3"
  }
 },
 "nbformat": 4,
 "nbformat_minor": 5
}
